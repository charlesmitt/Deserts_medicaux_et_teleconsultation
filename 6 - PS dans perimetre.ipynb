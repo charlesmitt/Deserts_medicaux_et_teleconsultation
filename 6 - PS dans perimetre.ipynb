{
 "cells": [
  {
   "cell_type": "code",
   "execution_count": null,
   "metadata": {},
   "outputs": [],
   "source": [
    "\n",
    "import pandas as pd\n",
    "from math import sin, cos, sqrt, atan2, radians"
   ]
  },
  {
   "cell_type": "code",
   "execution_count": null,
   "metadata": {},
   "outputs": [],
   "source": [
    "df_ps=pd.read_csv(\"csv/PS_civils_tous_avec_coordonnees.csv\", sep=\";\",dtype=str)\n",
    "df_communes=pd.read_csv(\"csv/communes_avec_operateurs_et_couverture_fixe.csv\", sep=\";\", dtype=str)"
   ]
  },
  {
   "cell_type": "code",
   "execution_count": null,
   "metadata": {},
   "outputs": [],
   "source": [
    "df_ps=df_ps[~df_ps[\"Libellé Voie (coord. structure)\"].isna()]"
   ]
  },
  {
   "cell_type": "code",
   "execution_count": null,
   "metadata": {},
   "outputs": [],
   "source": [
    "df_ps['Libellé savoir-faire']=df_ps['Libellé savoir-faire'].fillna('')\n",
    "df_ps['Code savoir-faire']=df_ps['Code savoir-faire'].fillna('')"
   ]
  },
  {
   "cell_type": "markdown",
   "metadata": {},
   "source": [
    "FAIRE DEUX DATASETS ET LES REMETTRE ENSEMBLE CAR LES FILTRES RESPECTIFS SONT EXCLUSIFS\n"
   ]
  },
  {
   "cell_type": "markdown",
   "metadata": {},
   "source": [
    "LES MEDECINS GENERALISTES LIBERAUX "
   ]
  },
  {
   "cell_type": "code",
   "execution_count": null,
   "metadata": {},
   "outputs": [],
   "source": [
    "df_medecins=df_ps[df_ps[\"Libellé profession\"]==\"Médecin\"]\n",
    "df_medecins=df_medecins[df_medecins['Libellé savoir-faire'].isin(('Qualifié en Médecine Générale','Spécialiste en Médecine Générale','Médecine Générale'))]\n",
    "df_medecins=df_medecins[df_medecins['Libellé mode exercice']==\"Lib,indép,artis,com\"]"
   ]
  },
  {
   "cell_type": "markdown",
   "metadata": {},
   "source": [
    "LES PHARMACIENS\n"
   ]
  },
  {
   "cell_type": "code",
   "execution_count": null,
   "metadata": {},
   "outputs": [],
   "source": [
    "df_pharmaciens=df_ps[df_ps[\"Libellé profession\"]==\"Pharmacien\"]\n",
    "df_pharmaciens=df_pharmaciens[df_pharmaciens[\"Libellé secteur d\\'activité\"]==\"Pharmacie d'officine\"]"
   ]
  },
  {
   "cell_type": "code",
   "execution_count": null,
   "metadata": {},
   "outputs": [],
   "source": [
    "df_ps=pd.concat([df_pharmaciens,df_medecins],ignore_index=True)"
   ]
  },
  {
   "cell_type": "markdown",
   "metadata": {},
   "source": [
    "POUR CALCULER DES INTERVALLES IL FAUT DES NOMBRES"
   ]
  },
  {
   "cell_type": "code",
   "execution_count": null,
   "metadata": {},
   "outputs": [],
   "source": [
    "df_communes[\"latitude_mairie\"]=df_communes[\"latitude_mairie\"].replace(\".\",\",\").astype('float64')\n",
    "df_communes[\"longitude_mairie\"]=df_communes[\"longitude_mairie\"].replace(\".\",\",\").astype('float64')\n",
    "\n",
    "df_ps['lat']=df_ps['lat'].astype(\"float64\")\n",
    "df_ps['lon']=df_ps['lon'].astype(\"float64\")"
   ]
  },
  {
   "cell_type": "markdown",
   "metadata": {},
   "source": [
    "RETOURNE LE NOMBRE DE PROFESSIONNEL-LE-S DE SANTE DONT L'EMPLACEMENT EST DANS LA ZONE DELIMITEE (LE \"RAYON\" EST PLUTOT UN CARRE)"
   ]
  },
  {
   "cell_type": "code",
   "execution_count": null,
   "metadata": {},
   "outputs": [],
   "source": [
    "liste_infos_cartes = []\n",
    "cp_a = 1\n",
    "nb_a = df_communes.shape[0]\n",
    "liste_distances=[]\n",
    "nb_med_aux_alentours = []\n",
    "nb_phar_aux_alentours = []\n",
    "rayon = 25 # en kilomètres\n",
    "for ia, ra in df_communes.iterrows():\n",
    "\n",
    "    print(f\"{ra.loc[\"code_insee\"]} {ra.loc[\"nom_standard\"]} {cp_a}/{nb_a} ({round(((cp_a/nb_a)*100),3)}%)\")\n",
    "    \n",
    "    lat_m = ra.loc[\"latitude_mairie\"]\n",
    "    lon_m = ra.loc[\"longitude_mairie\"]\n",
    "\n",
    "    rayon_v=0.1/11.122983322960587*rayon\n",
    "    rayon_h=0.1/7.87939981553392*rayon\n",
    "\n",
    "    d=df_ps[(df_ps['lat']>(lat_m-rayon_v))& (df_ps['lat']<(lat_m+rayon_v))&(df_ps['lon']>(lon_m-rayon_h))& (df_ps['lon']<(lon_m+rayon_h))]\n",
    "    \n",
    "    print(f\"Nombre de PS : {d.shape[0]}\")\n",
    "    \n",
    "    nb_med = d[d['Libellé profession']=='Médecin'].shape[0]\n",
    "    print(f\"Nombre de médecins : {nb_med}\")\n",
    "    nb_med_aux_alentours.append(nb_med)\n",
    "\n",
    "    nb_phar=d[d['Libellé profession']=='Pharmacien'].shape[0]\n",
    "    print(f\"Nombre de pharmaciens : {nb_phar}\")\n",
    "    nb_phar_aux_alentours.append(nb_phar)\n",
    "\n",
    "    for index, row in d.iterrows():\n",
    "        # Rayon de la Terre\n",
    "        R = 6373.0\n",
    "\n",
    "        latitude2= float(row.loc['lat'])\n",
    "        longitude2=float(row.loc['lon'])\n",
    "        lat1 = radians(lat_m)\n",
    "        lon1 = radians(lon_m)\n",
    "        lat2 = radians(latitude2)\n",
    "        lon2 = radians(longitude2)\n",
    "\n",
    "        dlon = lon2 - lon1\n",
    "        dlat = lat2 - lat1\n",
    "\n",
    "        a = sin(dlat / 2)**2 + cos(lat1) * cos(lat2) * sin(dlon / 2)**2\n",
    "        c = 2 * atan2(sqrt(a), sqrt(1 - a))\n",
    "\n",
    "        distance = R * c # en kilomètres\n",
    "        liste_distances.append([ra.loc[\"code_insee\"],row.loc['Identifiant PP'], distance])\n",
    "    cp_a+=1\n",
    "df_communes.insert(loc=len(df_communes.columns), column='nb_med', value=nb_med_aux_alentours)\n",
    "df_communes.insert(loc=len(df_communes.columns), column='nb_phar', value=nb_phar_aux_alentours)\n"
   ]
  },
  {
   "cell_type": "code",
   "execution_count": null,
   "metadata": {},
   "outputs": [],
   "source": [
    "df_distances=pd.DataFrame(liste_distances, columns=['code_insee','Identifiant PP','distance_en_km'])"
   ]
  },
  {
   "cell_type": "code",
   "execution_count": null,
   "metadata": {},
   "outputs": [],
   "source": [
    "df_distances.to_csv('csv/table_distances.csv', sep=\";\", index=False)\n",
    "df_communes.to_csv(\"csv/communes_avec_operateurs_et_couverture_fixe_et_med_et_pharm_dans_perimetre.csv\", sep=\";\", index=False)"
   ]
  }
 ],
 "metadata": {
  "kernelspec": {
   "display_name": "base",
   "language": "python",
   "name": "python3"
  },
  "language_info": {
   "codemirror_mode": {
    "name": "ipython",
    "version": 3
   },
   "file_extension": ".py",
   "mimetype": "text/x-python",
   "name": "python",
   "nbconvert_exporter": "python",
   "pygments_lexer": "ipython3",
   "version": "3.12.4"
  }
 },
 "nbformat": 4,
 "nbformat_minor": 2
}
