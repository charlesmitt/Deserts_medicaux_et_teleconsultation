{
 "cells": [
  {
   "cell_type": "code",
   "execution_count": 1,
   "metadata": {},
   "outputs": [],
   "source": [
    "import pandas as pd\n",
    "\n",
    "df_couverture_debit = pd.read_csv(\"src/commune_debit.csv\", sep=\";\", dtype=str)\n",
    "df_communes= pd.read_csv(\"csv/communes_avec_operateurs.csv\", sep=\";\", dtype=str)"
   ]
  },
  {
   "cell_type": "markdown",
   "metadata": {},
   "source": [
    "COLONNES INUTILES"
   ]
  },
  {
   "cell_type": "code",
   "execution_count": 47,
   "metadata": {},
   "outputs": [],
   "source": [
    "df_couverture_debit=df_couverture_debit.drop(columns=['nom_com', 'code_dep', 'code_reg', 'type','date'])"
   ]
  },
  {
   "cell_type": "markdown",
   "metadata": {},
   "source": [
    "POUR CALCULER DES RATIOS IL FAUT DES NOMBRES ENTIERS"
   ]
  },
  {
   "cell_type": "code",
   "execution_count": 48,
   "metadata": {},
   "outputs": [],
   "source": [
    "df_couverture_debit['nbr']=df_couverture_debit['nbr'].astype('int64')\n",
    "df_couverture_debit['inel_hd']=df_couverture_debit['inel_hd'].astype('int64')\n",
    "df_couverture_debit['elig_hd05']=df_couverture_debit['elig_hd05'].astype('int64')\n",
    "df_couverture_debit['elig_hd3']=df_couverture_debit['elig_hd3'].astype('int64')\n",
    "df_couverture_debit['elig_bhd8']=df_couverture_debit['elig_bhd8'].astype('int64')\n",
    "df_couverture_debit['elig_thd30']=df_couverture_debit['elig_thd30'].astype('int64')\n",
    "df_couverture_debit['elig_thd100']=df_couverture_debit['elig_thd100'].astype('int64')\n",
    "df_couverture_debit['elig_thd1g']=df_couverture_debit['elig_thd1g'].astype('int64')"
   ]
  },
  {
   "cell_type": "code",
   "execution_count": 49,
   "metadata": {},
   "outputs": [],
   "source": [
    "df_couverture_debit['inel_hd_prop']=df_couverture_debit.apply(lambda x: x['inel_hd']/x['nbr']*100 if x['nbr']>0 else 0, axis=1)\n",
    "df_couverture_debit['elig_hd05_prop']=df_couverture_debit.apply(lambda x: x['elig_hd05']/x['nbr']*100 if x['nbr']>0 else 0, axis=1)\n",
    "df_couverture_debit['elig_hd3_prop']=df_couverture_debit.apply(lambda x: x['elig_hd3']/x['nbr']*100 if x['nbr']>0 else 0, axis=1)\n",
    "df_couverture_debit['elig_bhd8_prop']=df_couverture_debit.apply(lambda x: x['elig_bhd8']/x['nbr']*100 if x['nbr']>0 else 0, axis=1)\n",
    "df_couverture_debit['elig_thd30_prop']=df_couverture_debit.apply(lambda x: x['elig_thd30']/x['nbr']*100 if x['nbr']>0 else 0, axis=1)\n",
    "df_couverture_debit['elig_thd100_prop']=df_couverture_debit.apply(lambda x: x['elig_thd100']/x['nbr']*100 if x['nbr']>0 else 0, axis=1)\n",
    "df_couverture_debit['elig_thd1g_prop']=df_couverture_debit.apply(lambda x: x['elig_thd1g']/x['nbr']*100 if x['nbr']>0 else 0, axis=1)"
   ]
  },
  {
   "cell_type": "markdown",
   "metadata": {},
   "source": [
    "ON FUSIONNE LES TABLES POUR AVOIR TOUT SUR UNE LIGNE (PAR COMMUNE)"
   ]
  },
  {
   "cell_type": "code",
   "execution_count": 50,
   "metadata": {},
   "outputs": [],
   "source": [
    "df_communes_avec_couverture= df_communes.merge(df_couverture_debit, left_on='code_insee', right_on=\"code_insee\")"
   ]
  },
  {
   "cell_type": "markdown",
   "metadata": {},
   "source": [
    "SAUVEGARDE EN CSV POUR LA SUITE"
   ]
  },
  {
   "cell_type": "code",
   "execution_count": 51,
   "metadata": {},
   "outputs": [],
   "source": [
    "df_communes_avec_couverture.to_csv(\"csv/communes_avec_operateurs_et_couverture_fixe.csv\", sep=\";\", index=False)"
   ]
  }
 ],
 "metadata": {
  "kernelspec": {
   "display_name": "Python 3",
   "language": "python",
   "name": "python3"
  },
  "language_info": {
   "codemirror_mode": {
    "name": "ipython",
    "version": 3
   },
   "file_extension": ".py",
   "mimetype": "text/x-python",
   "name": "python",
   "nbconvert_exporter": "python",
   "pygments_lexer": "ipython3",
   "version": "3.12.6"
  }
 },
 "nbformat": 4,
 "nbformat_minor": 2
}
