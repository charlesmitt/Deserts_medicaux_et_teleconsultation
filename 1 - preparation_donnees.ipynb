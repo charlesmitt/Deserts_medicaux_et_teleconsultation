{
 "cells": [
  {
   "cell_type": "code",
   "execution_count": null,
   "metadata": {},
   "outputs": [],
   "source": [
    "import pandas as pd\n",
    "\n",
    "df_PS = pd.read_csv(\"src/PS_LibreAcces_Personne_activite_202502190859.txt\", sep=\"|\", dtype=str)\n",
    "df_communes = pd.read_csv(\"src/communes-france-2025.csv\", sep=\",\", dtype=str)\n",
    "df_demo_PS = pd.read_csv(\"src/demographie-effectifs-et-les-densites(1).csv\", sep=\";\",dtype=str)"
   ]
  },
  {
   "cell_type": "code",
   "execution_count": null,
   "metadata": {},
   "outputs": [],
   "source": [
    "df_demo_PS=df_demo_PS[df_demo_PS['﻿annee']=='2023']\n",
    "df_demo_PS=df_demo_PS[df_demo_PS['libelle_sexe']=='tout sexe']\n",
    "df_demo_PS=df_demo_PS[~df_demo_PS['libelle_classe_age'].isin(('Tout âge','âge inconnu'))]"
   ]
  },
  {
   "cell_type": "markdown",
   "metadata": {},
   "source": [
    "ON VEUT PAS LES DOUBLONS ET ON S'INTERESSE QU'AUX CIVILS"
   ]
  },
  {
   "cell_type": "code",
   "execution_count": null,
   "metadata": {},
   "outputs": [],
   "source": [
    "df_PS=df_PS.drop_duplicates(subset='Identifiant PP')\n",
    "df_PS = df_PS[df_PS['Code catégorie professionnelle']=='C']"
   ]
  },
  {
   "cell_type": "markdown",
   "metadata": {},
   "source": [
    "SUPPRESSION DES COLONNES NON-PERTINENTES"
   ]
  },
  {
   "cell_type": "code",
   "execution_count": null,
   "metadata": {},
   "outputs": [],
   "source": [
    "cols_communes_a_supprimer = ['Unnamed: 0',\n",
    "                            'nom_sans_pronom', \n",
    "                            'nom_a',\n",
    "                            'nom_de', \n",
    "                            'nom_sans_accent', \n",
    "                            'nom_standard_majuscule',\n",
    "                            'typecom',\n",
    "                            'typecom_texte',\n",
    "                            'canton_code', \n",
    "                            'canton_nom', \n",
    "                            'epci_code', \n",
    "                            'epci_nom', \n",
    "                            'academie_code',\n",
    "                            'academie_nom',\n",
    "                            'codes_postaux', \n",
    "                            'zone_emploi',\n",
    "                            'code_insee_centre_zone_emploi', \n",
    "                            'code_unite_urbaine',\n",
    "                            'nom_unite_urbaine', \n",
    "                            'taille_unite_urbaine',\n",
    "                            'type_commune_unite_urbaine', \n",
    "                            'statut_commune_unite_urbaine',\n",
    "                            'gentile', \n",
    "                            'url_wikipedia', \n",
    "                            'url_villedereve',\n",
    "                            'niveau_equipements_services', \n",
    "                            'niveau_equipements_services_texte']\n",
    "\n",
    "\n",
    "cols_PS_a_supprimer =      ['Type d\\'identifiant PP', \n",
    "                            'Identification nationale PP',  \n",
    "                            'Code civilité d\\'exercice',\t\n",
    "                            'Libellé civilité d\\'exercice',\n",
    "                            'Code catégorie professionnelle',\n",
    "                            'Libellé catégorie professionnelle', \n",
    "                            'Code type savoir-faire',\n",
    "                            'Libellé type savoir-faire', \n",
    "                            'Numéro SIRET site', 'Numéro SIREN site', \n",
    "                            'Numéro FINESS site',\n",
    "                            'Numéro FINESS établissement juridique',\n",
    "                            'Identifiant technique de la structure', \n",
    "                            'Enseigne commerciale site',\n",
    "                            'Complément destinataire (coord. structure)',\n",
    "                            'Complément point géographique (coord. structure)',\n",
    "                            'Indice répétition voie (coord. structure)',\n",
    "                            'Code type de voie (coord. structure)',\n",
    "                            'Libellé type de voie (coord. structure)',\n",
    "                            'Mention distribution (coord. structure)',\n",
    "                            'Bureau cedex (coord. structure)', \n",
    "                            'Code pays (coord. structure)', \n",
    "                            'Libellé pays (coord. structure)',\n",
    "                            'Téléphone 2 (coord. structure)',\n",
    "                            'Télécopie (coord. structure)', \n",
    "                            'Code Département (structure)',\n",
    "                            'Libellé Département (structure)',\n",
    "                            'Ancien identifiant de la structure', \n",
    "                            'Autorité d\\'enregistrement',\n",
    "                            'Code section tableau pharmaciens',\n",
    "                            'Libellé section tableau pharmaciens', \n",
    "                            'Code rôle', \n",
    "                            'Libellé rôle',\n",
    "                            'Code genre activité', \n",
    "                            'Libellé genre activité', \n",
    "                            'Unnamed: 56']\n",
    "\n",
    "cols_demographie_a_supprimer=['densite', 'vision generale all',\n",
    "       'vision_generale_prescriptions', 'vision profession territoire']"
   ]
  },
  {
   "cell_type": "code",
   "execution_count": null,
   "metadata": {},
   "outputs": [],
   "source": [
    "df_communes=df_communes.drop(columns=cols_communes_a_supprimer)\n",
    "df_PS = df_PS.drop(columns=cols_PS_a_supprimer)\n",
    "df_demo_PS=df_demo_PS.drop(columns=cols_demographie_a_supprimer)"
   ]
  },
  {
   "cell_type": "code",
   "execution_count": null,
   "metadata": {},
   "outputs": [],
   "source": [
    "df_communes.to_csv('csv/communes.csv', sep=\";\",index=False)\n",
    "df_PS.to_csv('csv/PS_civils.csv', sep=\";\",index=False)\n",
    "df_demo_PS.to_csv('csv/demographie_ps.csv', sep=';',index=False)"
   ]
  }
 ],
 "metadata": {
  "kernelspec": {
   "display_name": "base",
   "language": "python",
   "name": "python3"
  },
  "language_info": {
   "codemirror_mode": {
    "name": "ipython",
    "version": 3
   },
   "file_extension": ".py",
   "mimetype": "text/x-python",
   "name": "python",
   "nbconvert_exporter": "python",
   "pygments_lexer": "ipython3",
   "version": "3.12.4"
  }
 },
 "nbformat": 4,
 "nbformat_minor": 2
}
