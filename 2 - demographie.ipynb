{
 "cells": [
  {
   "cell_type": "code",
   "execution_count": null,
   "metadata": {},
   "outputs": [],
   "source": [
    "import pandas as pd\n",
    "\n",
    "df_PS = pd.read_csv(\"csv/PS_civils.csv\", sep=\";\", dtype=str)\n",
    "df_communes = pd.read_csv(\"csv/communes.csv\", sep=\";\", dtype=str)"
   ]
  },
  {
   "cell_type": "code",
   "execution_count": null,
   "metadata": {},
   "outputs": [],
   "source": [
    "df_communes['population']=df_communes['population'].astype('int64')"
   ]
  },
  {
   "cell_type": "markdown",
   "metadata": {},
   "source": [
    "CLASSIFICATION DES COMMUNES SELON LEUR POPULATION"
   ]
  },
  {
   "cell_type": "code",
   "execution_count": null,
   "metadata": {},
   "outputs": [],
   "source": [
    "def get_code_pop(p):\n",
    "    if p<2000:\n",
    "        return '1 - commune'\n",
    "    elif (p<5000):\n",
    "        return '2 - bourg'\n",
    "    elif (p<20000):\n",
    "        return \"3 - petite ville\"\n",
    "    elif (p<50000):\n",
    "        return '4 - ville moyenne'\n",
    "    elif (p<200000):\n",
    "        return '5 - grande ville'\n",
    "    else :\n",
    "        return '6 - metropole'"
   ]
  },
  {
   "cell_type": "code",
   "execution_count": null,
   "metadata": {},
   "outputs": [],
   "source": [
    "df_communes['taille_commune']=df_communes['population'].apply(lambda x : get_code_pop(x))"
   ]
  },
  {
   "cell_type": "markdown",
   "metadata": {},
   "source": [
    "POPULATION PAR DEPARTEMENT, PAR REGION\n"
   ]
  },
  {
   "cell_type": "code",
   "execution_count": null,
   "metadata": {},
   "outputs": [],
   "source": [
    "df_population_par_ville = df_communes.groupby(['code_insee', 'nom_standard'])['population'].sum().reset_index()\n",
    "df_population_par_dep   = df_communes.groupby(['dep_code','dep_nom'])[\"population\"].sum().reset_index()"
   ]
  },
  {
   "cell_type": "markdown",
   "metadata": {},
   "source": [
    "NOMBRE DE PS PAR DEPARTEMENT ET PAR REGION"
   ]
  },
  {
   "cell_type": "code",
   "execution_count": null,
   "metadata": {},
   "outputs": [],
   "source": [
    "df_PS_communes = df_PS.merge(df_communes,left_on=['Code commune (coord. structure)'], right_on=['code_insee'])\n",
    "\n",
    "df_PS_par_dep= df_PS_communes.groupby(['dep_code','dep_nom', 'Libellé profession','Libellé savoir-faire','Libellé civilité','Libellé mode exercice'],dropna=False)[\"Identifiant PP\"].count().reset_index()\n",
    "df_PS_par_com= df_PS_communes.groupby(['Code commune (coord. structure)','Libellé profession','Libellé savoir-faire','Libellé civilité','Libellé mode exercice'],dropna=False)[\"Identifiant PP\"].count().reset_index()"
   ]
  },
  {
   "cell_type": "code",
   "execution_count": null,
   "metadata": {},
   "outputs": [],
   "source": [
    "df_PS_par_dep_avec_pop = df_PS_par_dep.merge(df_population_par_dep,on=['dep_code'])\n",
    "df_PS_par_com_avec_pop = df_PS_par_com.merge(df_population_par_ville,left_on=['Code commune (coord. structure)'], right_on=['code_insee'])"
   ]
  },
  {
   "cell_type": "markdown",
   "metadata": {},
   "source": [
    "CALCUL DU RATIO POUR 1000 HABITANTS"
   ]
  },
  {
   "cell_type": "code",
   "execution_count": null,
   "metadata": {},
   "outputs": [],
   "source": [
    "df_PS_par_dep_avec_pop['population']=df_PS_par_dep_avec_pop['population'].astype('int64')"
   ]
  },
  {
   "cell_type": "code",
   "execution_count": null,
   "metadata": {},
   "outputs": [],
   "source": [
    "df_PS_par_dep_avec_pop['ratio']=df_PS_par_dep_avec_pop.apply(lambda x: x[\"Identifiant PP\"]/x[\"population\"]*1000, axis=1)\n"
   ]
  },
  {
   "cell_type": "code",
   "execution_count": null,
   "metadata": {},
   "outputs": [],
   "source": [
    "df_PS_par_dep_avec_pop=df_PS_par_dep_avec_pop.drop(columns=['dep_nom_y'])"
   ]
  },
  {
   "cell_type": "markdown",
   "metadata": {},
   "source": [
    "EXPORT CSV POUR LA SUITE"
   ]
  },
  {
   "cell_type": "code",
   "execution_count": null,
   "metadata": {},
   "outputs": [],
   "source": [
    "df_PS_par_dep_avec_pop.to_csv('csv/df_PS_par_dep_avec_pop.csv', sep=\";\",index=False)\n",
    "df_PS_par_com_avec_pop.to_csv('csv/df_PS_par_com_avec_pop.csv', sep=\";\",index=False)"
   ]
  }
 ],
 "metadata": {
  "kernelspec": {
   "display_name": "base",
   "language": "python",
   "name": "python3"
  },
  "language_info": {
   "codemirror_mode": {
    "name": "ipython",
    "version": 3
   },
   "file_extension": ".py",
   "mimetype": "text/x-python",
   "name": "python",
   "nbconvert_exporter": "python",
   "pygments_lexer": "ipython3",
   "version": "3.12.4"
  }
 },
 "nbformat": 4,
 "nbformat_minor": 2
}
